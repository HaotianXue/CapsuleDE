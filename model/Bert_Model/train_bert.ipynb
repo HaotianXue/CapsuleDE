{
  "nbformat": 4,
  "nbformat_minor": 0,
  "metadata": {
    "colab": {
      "name": "train_bert.ipynb",
      "provenance": [],
      "collapsed_sections": []
    },
    "kernelspec": {
      "name": "python3",
      "display_name": "Python 3"
    },
    "accelerator": "GPU"
  },
  "cells": [
    {
      "cell_type": "code",
      "metadata": {
        "id": "XF9gDZL3Vf7a",
        "colab_type": "code",
        "colab": {
          "base_uri": "https://localhost:8080/",
          "height": 394
        },
        "outputId": "e1ca7744-c493-4715-d7bd-f65c4140a8f2"
      },
      "source": [
        "import torch\n",
        "print(torch.__version__)\n",
        "!pip install transformers"
      ],
      "execution_count": 1,
      "outputs": [
        {
          "output_type": "stream",
          "text": [
            "1.3.1\n",
            "Requirement already satisfied: transformers in /usr/local/lib/python3.6/dist-packages (2.3.0)\n",
            "Requirement already satisfied: sacremoses in /usr/local/lib/python3.6/dist-packages (from transformers) (0.0.38)\n",
            "Requirement already satisfied: numpy in /usr/local/lib/python3.6/dist-packages (from transformers) (1.17.5)\n",
            "Requirement already satisfied: boto3 in /usr/local/lib/python3.6/dist-packages (from transformers) (1.10.47)\n",
            "Requirement already satisfied: requests in /usr/local/lib/python3.6/dist-packages (from transformers) (2.21.0)\n",
            "Requirement already satisfied: regex!=2019.12.17 in /usr/local/lib/python3.6/dist-packages (from transformers) (2019.12.20)\n",
            "Requirement already satisfied: tqdm in /usr/local/lib/python3.6/dist-packages (from transformers) (4.28.1)\n",
            "Requirement already satisfied: sentencepiece in /usr/local/lib/python3.6/dist-packages (from transformers) (0.1.85)\n",
            "Requirement already satisfied: six in /usr/local/lib/python3.6/dist-packages (from sacremoses->transformers) (1.12.0)\n",
            "Requirement already satisfied: joblib in /usr/local/lib/python3.6/dist-packages (from sacremoses->transformers) (0.14.1)\n",
            "Requirement already satisfied: click in /usr/local/lib/python3.6/dist-packages (from sacremoses->transformers) (7.0)\n",
            "Requirement already satisfied: s3transfer<0.3.0,>=0.2.0 in /usr/local/lib/python3.6/dist-packages (from boto3->transformers) (0.2.1)\n",
            "Requirement already satisfied: jmespath<1.0.0,>=0.7.1 in /usr/local/lib/python3.6/dist-packages (from boto3->transformers) (0.9.4)\n",
            "Requirement already satisfied: botocore<1.14.0,>=1.13.47 in /usr/local/lib/python3.6/dist-packages (from boto3->transformers) (1.13.47)\n",
            "Requirement already satisfied: chardet<3.1.0,>=3.0.2 in /usr/local/lib/python3.6/dist-packages (from requests->transformers) (3.0.4)\n",
            "Requirement already satisfied: certifi>=2017.4.17 in /usr/local/lib/python3.6/dist-packages (from requests->transformers) (2019.11.28)\n",
            "Requirement already satisfied: urllib3<1.25,>=1.21.1 in /usr/local/lib/python3.6/dist-packages (from requests->transformers) (1.24.3)\n",
            "Requirement already satisfied: idna<2.9,>=2.5 in /usr/local/lib/python3.6/dist-packages (from requests->transformers) (2.8)\n",
            "Requirement already satisfied: docutils<0.16,>=0.10 in /usr/local/lib/python3.6/dist-packages (from botocore<1.14.0,>=1.13.47->boto3->transformers) (0.15.2)\n",
            "Requirement already satisfied: python-dateutil<3.0.0,>=2.1; python_version >= \"2.7\" in /usr/local/lib/python3.6/dist-packages (from botocore<1.14.0,>=1.13.47->boto3->transformers) (2.6.1)\n"
          ],
          "name": "stdout"
        }
      ]
    },
    {
      "cell_type": "code",
      "metadata": {
        "id": "w7Y51LALV4AE",
        "colab_type": "code",
        "colab": {
          "base_uri": "https://localhost:8080/",
          "height": 63
        },
        "outputId": "cdf43d34-7ce2-4c56-b2a6-e64d4ff10f26"
      },
      "source": [
        "import torch\n",
        "import torch.nn as nn\n",
        "import torch.optim as optim\n",
        "from transformers import BertTokenizer, BertModel, BertForSequenceClassification, AdamW, get_linear_schedule_with_warmup\n",
        "from sklearn.metrics import f1_score, precision_score, recall_score, accuracy_score\n",
        "import numpy as np\n",
        "from torch.utils.data import Dataset, DataLoader"
      ],
      "execution_count": 2,
      "outputs": [
        {
          "output_type": "display_data",
          "data": {
            "text/html": [
              "<p style=\"color: red;\">\n",
              "The default version of TensorFlow in Colab will soon switch to TensorFlow 2.x.<br>\n",
              "We recommend you <a href=\"https://www.tensorflow.org/guide/migrate\" target=\"_blank\">upgrade</a> now \n",
              "or ensure your notebook will continue to use TensorFlow 1.x via the <code>%tensorflow_version 1.x</code> magic:\n",
              "<a href=\"https://colab.research.google.com/notebooks/tensorflow_version.ipynb\" target=\"_blank\">more info</a>.</p>\n"
            ],
            "text/plain": [
              "<IPython.core.display.HTML object>"
            ]
          },
          "metadata": {
            "tags": []
          }
        }
      ]
    },
    {
      "cell_type": "code",
      "metadata": {
        "id": "iYGCBhZEWqjN",
        "colab_type": "code",
        "colab": {}
      },
      "source": [
        "from Bert_DataFetcher import BertDataSet\n",
        "from Capsule_Bert_model import BertCapsuleNet"
      ],
      "execution_count": 0,
      "outputs": []
    },
    {
      "cell_type": "code",
      "metadata": {
        "id": "94LAzWjYWgPg",
        "colab_type": "code",
        "colab": {}
      },
      "source": [
        "CUDA_LAUNCH_BLOCKING=\"1\"\n",
        "\n",
        "ds = BertDataSet('train.txt')\n",
        "ds_loader = DataLoader(ds, batch_size=16, shuffle=True)\n",
        "\n",
        "criterion = nn.CrossEntropyLoss()\n",
        "\n",
        "lr = 2e-3  # 2e-3\n",
        "max_grad_norm = 1.0\n",
        "num_training_steps = len(ds.data_x) * 10\n",
        "num_warmup_steps = 0\n",
        "warmup_proportion = float(num_warmup_steps) / float(num_training_steps)  # 0.1\n",
        "\n",
        "\n",
        "device = torch.device(\n",
        "            \"cuda\" if torch.cuda.is_available() else \"cpu\"\n",
        "        )\n",
        "\n",
        "\n",
        "model = BertCapsuleNet(freeze_bert=False)\n",
        "model = model.to(device)\n",
        "\n",
        "# optimizer = AdamW(model.parameters(), lr=lr, correct_bias=False)  # To reproduce BertAdam specific behavior set correct_bias=False\n",
        "optimizer = AdamW(model.parameters(),\n",
        "                  lr = 2e-5, # args.learning_rate - default is 5e-5, our notebook had 2e-5\n",
        "                  eps = 1e-8 # args.adam_epsilon  - default is 1e-8.\n",
        "                 )\n",
        "scheduler = get_linear_schedule_with_warmup(optimizer, num_warmup_steps=num_warmup_steps, num_training_steps=num_training_steps)  # PyTorch scheduler"
      ],
      "execution_count": 0,
      "outputs": []
    },
    {
      "cell_type": "code",
      "metadata": {
        "id": "X2htsMkBXuzf",
        "colab_type": "code",
        "colab": {
          "base_uri": "https://localhost:8080/",
          "height": 544
        },
        "outputId": "8bf07744-a29b-4fb2-cd8a-33979e71e22e"
      },
      "source": [
        "# train\n",
        "\n",
        "num_epoch = 12\n",
        "\n",
        "model.train()\n",
        "\n",
        "for e in range(num_epoch):\n",
        "    running_loss = 0.0\n",
        "    for i, data in enumerate(ds_loader):\n",
        "        X, Y, attn_msks = data\n",
        "        X = X.to(device)\n",
        "        Y = Y.to(device)\n",
        "        attn_msks = attn_msks.to(device)\n",
        "        outputs = model((X, attn_msks))\n",
        "        loss = criterion(outputs, Y)\n",
        "        running_loss += loss.item()\n",
        "        loss.backward()\n",
        "        torch.nn.utils.clip_grad_norm_(model.parameters(), max_grad_norm)  # Gradient clipping is not in AdamW anymore (so you can use amp without issue)\n",
        "        optimizer.step()\n",
        "        scheduler.step()\n",
        "        optimizer.zero_grad()\n",
        "        # print statistics\n",
        "        if i % 200 == 199:\n",
        "            print('%d epoch: %d Done, loss = %f' % (e, i, running_loss / 200.0))\n",
        "            running_loss = 0.0\n",
        "\n",
        "print(\"------Finish training------\")"
      ],
      "execution_count": 5,
      "outputs": [
        {
          "output_type": "stream",
          "text": [
            "0 epoch: 199 Done, loss = 0.511645\n",
            "0 epoch: 399 Done, loss = 0.465977\n",
            "0 epoch: 599 Done, loss = 0.459275\n",
            "0 epoch: 799 Done, loss = 0.458863\n",
            "0 epoch: 999 Done, loss = 0.442527\n",
            "1 epoch: 199 Done, loss = 0.429207\n",
            "1 epoch: 399 Done, loss = 0.427520\n",
            "1 epoch: 599 Done, loss = 0.431351\n",
            "1 epoch: 799 Done, loss = 0.427016\n",
            "1 epoch: 999 Done, loss = 0.422343\n",
            "2 epoch: 199 Done, loss = 0.408386\n",
            "2 epoch: 399 Done, loss = 0.406893\n",
            "2 epoch: 599 Done, loss = 0.424082\n",
            "2 epoch: 799 Done, loss = 0.418728\n",
            "2 epoch: 999 Done, loss = 0.417575\n",
            "3 epoch: 199 Done, loss = 0.396948\n",
            "3 epoch: 399 Done, loss = 0.401970\n",
            "3 epoch: 599 Done, loss = 0.409090\n",
            "3 epoch: 799 Done, loss = 0.407245\n",
            "3 epoch: 999 Done, loss = 0.413367\n",
            "4 epoch: 199 Done, loss = 0.397560\n",
            "4 epoch: 399 Done, loss = 0.407979\n",
            "4 epoch: 599 Done, loss = 0.395746\n",
            "4 epoch: 799 Done, loss = 0.384986\n",
            "4 epoch: 999 Done, loss = 0.396809\n",
            "5 epoch: 199 Done, loss = 0.375542\n",
            "5 epoch: 399 Done, loss = 0.362099\n",
            "5 epoch: 599 Done, loss = 0.386741\n",
            "5 epoch: 799 Done, loss = 0.392848\n",
            "5 epoch: 999 Done, loss = 0.382798\n",
            "------Finish training------\n"
          ],
          "name": "stdout"
        }
      ]
    },
    {
      "cell_type": "code",
      "metadata": {
        "id": "mbS_HaXbIA6Z",
        "colab_type": "code",
        "colab": {
          "base_uri": "https://localhost:8080/",
          "height": 34
        },
        "outputId": "8055d5b1-c27b-4dda-d4ce-35c1b938fc4c"
      },
      "source": [
        "from google.colab import drive\n",
        "drive.mount('/content/gdrive')"
      ],
      "execution_count": 6,
      "outputs": [
        {
          "output_type": "stream",
          "text": [
            "Drive already mounted at /content/gdrive; to attempt to forcibly remount, call drive.mount(\"/content/gdrive\", force_remount=True).\n"
          ],
          "name": "stdout"
        }
      ]
    },
    {
      "cell_type": "code",
      "metadata": {
        "id": "yKxy6P2HH-Js",
        "colab_type": "code",
        "colab": {}
      },
      "source": [
        "torch.save(model.state_dict(), \"./gdrive/My Drive/freeze_bert_capsule.pt\")"
      ],
      "execution_count": 0,
      "outputs": []
    },
    {
      "cell_type": "code",
      "metadata": {
        "id": "bVzi77vN19Ne",
        "colab_type": "code",
        "colab": {
          "base_uri": "https://localhost:8080/",
          "height": 85
        },
        "outputId": "69759285-3001-4b43-bbc8-1374c0e0ae56"
      },
      "source": [
        "# test\n",
        "\n",
        "model = BertCapsuleNet(freeze_bert=False)\n",
        "model.load_state_dict(torch.load(\"./gdrive/My Drive/freeze_bert_capsule.pt\"))\n",
        "model = model.to(device)\n",
        "\n",
        "test_ds = BertDataSet('test.txt')\n",
        "test_ds_loader = DataLoader(test_ds, batch_size=16, shuffle=False)\n",
        "\n",
        "correct = 0\n",
        "total = 0\n",
        "\n",
        "# matrix used for computing f1 score\n",
        "y_true = None\n",
        "y_pred = None\n",
        "\n",
        "model.eval()\n",
        "\n",
        "with torch.no_grad():\n",
        "    for i, data in enumerate(test_ds_loader):\n",
        "        X, labels, attn_msks = data\n",
        "        X = X.to(device)\n",
        "        labels = labels.to(device)\n",
        "        attn_msks = attn_msks.to(device)\n",
        "        outputs = model((X, attn_msks))\n",
        "        _, predicted = torch.max(outputs.data, 1)  # predicted shape: [batch_size, 1]\n",
        "        total += labels.size(0)  # labels shape: [batch_size, 1]\n",
        "        correct += (predicted == labels).sum().item()\n",
        "        if i == 0:\n",
        "            y_true = labels\n",
        "            y_pred = predicted\n",
        "        else:\n",
        "            y_true = torch.cat((y_true, labels), 0)\n",
        "            y_pred = torch.cat((y_pred, predicted), 0)\n",
        "    print('F1 score: ', f1_score(y_true.cpu().numpy(), y_pred.cpu().numpy()))\n",
        "    print('Precision score: ', precision_score(y_true.cpu().numpy(), y_pred.cpu().numpy()))\n",
        "    print('Recall score: ', recall_score(y_true.cpu().numpy(), y_pred.cpu().numpy()))\n",
        "    print('Accuracy score: ', accuracy_score(y_true.cpu().numpy(), y_pred.cpu().numpy()))"
      ],
      "execution_count": 14,
      "outputs": [
        {
          "output_type": "stream",
          "text": [
            "F1 score:  0.7523277467411545\n",
            "Precision score:  0.7651515151515151\n",
            "Recall score:  0.73992673992674\n",
            "Accuracy score:  0.8358024691358025\n"
          ],
          "name": "stdout"
        }
      ]
    }
  ]
}